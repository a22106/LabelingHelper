{
 "cells": [
  {
   "cell_type": "code",
   "execution_count": 1,
   "metadata": {},
   "outputs": [],
   "source": [
    "testtext1 = '0001'\n",
    "testtext2 = '2-48'\n"
   ]
  },
  {
   "cell_type": "code",
   "execution_count": 2,
   "metadata": {},
   "outputs": [
    {
     "data": {
      "text/plain": [
       "True"
      ]
     },
     "execution_count": 2,
     "metadata": {},
     "output_type": "execute_result"
    }
   ],
   "source": [
    "testtext1.isdigit()"
   ]
  },
  {
   "cell_type": "code",
   "execution_count": 3,
   "metadata": {},
   "outputs": [
    {
     "data": {
      "text/plain": [
       "False"
      ]
     },
     "execution_count": 3,
     "metadata": {},
     "output_type": "execute_result"
    }
   ],
   "source": [
    "testtext2.isdigit()"
   ]
  },
  {
   "cell_type": "code",
   "execution_count": 4,
   "metadata": {},
   "outputs": [
    {
     "name": "stdout",
     "output_type": "stream",
     "text": [
      "001\n"
     ]
    }
   ],
   "source": [
    "print(f'{int(testtext1):03d}')"
   ]
  },
  {
   "cell_type": "code",
   "execution_count": 6,
   "metadata": {},
   "outputs": [
    {
     "data": {
      "text/plain": [
       "'C:/datasets/extract_2022-08-02-18-18-53/Clip_00034_test'"
      ]
     },
     "execution_count": 6,
     "metadata": {},
     "output_type": "execute_result"
    }
   ],
   "source": [
    "'C:\\datasets\\extract_2022-08-02-18-18-53\\Clip_00034_test'.replace('\\\\', '/')"
   ]
  },
  {
   "cell_type": "code",
   "execution_count": 7,
   "metadata": {},
   "outputs": [],
   "source": [
    "import os\n",
    "inputPath = r\"D:\\Documents\\GitHub\\LabelingHelper\\data\\rejecter_0819\\extract_2022-08-02-18-18-53\\Clip_00003\\result\"\n",
    "basePath = os.path.basename(inputPath)\n",
    "\n",
    "if basePath == 'result':\n",
    "    resultPath = inputPath\n",
    "    clipPath = os.path.dirname(inputPath)\n",
    "    upperPath = os.path.dirname(clipPath)"
   ]
  },
  {
   "cell_type": "code",
   "execution_count": 8,
   "metadata": {},
   "outputs": [
    {
     "name": "stdout",
     "output_type": "stream",
     "text": [
      "D:\\Documents\\GitHub\\LabelingHelper\\data\\rejecter_0819\\extract_2022-08-02-18-18-53\\Clip_00003\\result\n",
      "D:\\Documents\\GitHub\\LabelingHelper\\data\\rejecter_0819\\extract_2022-08-02-18-18-53\\Clip_00003\n"
     ]
    }
   ],
   "source": [
    "print(resultPath)\n",
    "print(clipPath)\n"
   ]
  }
 ],
 "metadata": {
  "kernelspec": {
   "display_name": "Python 3.9.12 ('polyrnn')",
   "language": "python",
   "name": "python3"
  },
  "language_info": {
   "codemirror_mode": {
    "name": "ipython",
    "version": 3
   },
   "file_extension": ".py",
   "mimetype": "text/x-python",
   "name": "python",
   "nbconvert_exporter": "python",
   "pygments_lexer": "ipython3",
   "version": "3.9.12"
  },
  "orig_nbformat": 4,
  "vscode": {
   "interpreter": {
    "hash": "5203595be8cc74f881166954ab43fdaa2d4816c717a0a12548e324032f15089e"
   }
  }
 },
 "nbformat": 4,
 "nbformat_minor": 2
}
