{
 "cells": [
  {
   "cell_type": "code",
   "execution_count": 3,
   "metadata": {},
   "outputs": [
    {
     "ename": "TypeError",
     "evalue": "index expected at least 1 argument, got 0",
     "output_type": "error",
     "traceback": [
      "\u001b[1;31m---------------------------------------------------------------------------\u001b[0m",
      "\u001b[1;31mTypeError\u001b[0m                                 Traceback (most recent call last)",
      "\u001b[1;32mc:\\Users\\Admin\\Documents\\GitHub\\LabelingHelper\\test.ipynb 셀 1\u001b[0m in \u001b[0;36m<cell line: 3>\u001b[1;34m()\u001b[0m\n\u001b[0;32m      <a href='vscode-notebook-cell:/c%3A/Users/Admin/Documents/GitHub/LabelingHelper/test.ipynb#X10sZmlsZQ%3D%3D?line=0'>1</a>\u001b[0m dim \u001b[39m=\u001b[39m [\u001b[39m1\u001b[39m, \u001b[39m2\u001b[39m, \u001b[39m0\u001b[39m]\n\u001b[1;32m----> <a href='vscode-notebook-cell:/c%3A/Users/Admin/Documents/GitHub/LabelingHelper/test.ipynb#X10sZmlsZQ%3D%3D?line=2'>3</a>\u001b[0m [x \u001b[39mfor\u001b[39;00m x \u001b[39min\u001b[39;00m dim\u001b[39m.\u001b[39;49mindex() \u001b[39mif\u001b[39;00m dim[x] \u001b[39m==\u001b[39m \u001b[39m0\u001b[39m]\n",
      "\u001b[1;31mTypeError\u001b[0m: index expected at least 1 argument, got 0"
     ]
    }
   ],
   "source": [
    "dim = [1, 2, 0]\n",
    "\n",
    "[x for x in dim.index(0) if dim[x] == 0]"
   ]
  },
  {
   "cell_type": "code",
   "execution_count": 7,
   "metadata": {},
   "outputs": [
    {
     "data": {
      "text/plain": [
       "[2, 4, 6]"
      ]
     },
     "execution_count": 7,
     "metadata": {},
     "output_type": "execute_result"
    }
   ],
   "source": [
    "dim = [1, 2, 0, 1, 0, 1, 0]\n",
    "# append all index when dim[x] == 0\n",
    "save_index = [x for x in range(len(dim)) if dim[x] == 0]\n",
    "save_index"
   ]
  }
 ],
 "metadata": {
  "kernelspec": {
   "display_name": "Python 3.9.12 ('PyQt')",
   "language": "python",
   "name": "python3"
  },
  "language_info": {
   "codemirror_mode": {
    "name": "ipython",
    "version": 3
   },
   "file_extension": ".py",
   "mimetype": "text/x-python",
   "name": "python",
   "nbconvert_exporter": "python",
   "pygments_lexer": "ipython3",
   "version": "3.9.12"
  },
  "orig_nbformat": 4,
  "vscode": {
   "interpreter": {
    "hash": "fc514f0776bbeb69b7511c4ccfa2997d13d6c3868d12888861f707907dfb6b58"
   }
  }
 },
 "nbformat": 4,
 "nbformat_minor": 2
}
